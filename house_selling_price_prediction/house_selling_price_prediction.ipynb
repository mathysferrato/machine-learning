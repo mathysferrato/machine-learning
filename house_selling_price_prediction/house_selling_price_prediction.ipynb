{
 "cells": [
  {
   "cell_type": "markdown",
   "metadata": {
    "id": "qA7uwj7RZjKn"
   },
   "source": [
    "# **House selling price prediction**"
   ]
  },
  {
   "cell_type": "code",
   "execution_count": 29,
   "metadata": {
    "id": "ClFa08WPZjKs"
   },
   "outputs": [],
   "source": [
    "# Necessary imports\n",
    "\n",
    "import numpy as np\n",
    "import matplotlib.pyplot as plt\n",
    "from typing import List, Tuple"
   ]
  },
  {
   "cell_type": "markdown",
   "metadata": {
    "id": "Ivjv-2OB1hwZ"
   },
   "source": [
    "## **I) Linear Regression**\n",
    "In this question, we will take a simple dataset and implement linear and ridge regression by solving for their analytical solutions. We will then perform a simple hyperparameter search to determine regression co-efficients that best suit the data.\n",
    "\n",
    "We'll be using the Boston Housing Dataset, which you can find out more about [here](https://www.cs.toronto.edu/~delve/data/boston/bostonDetail.html). The goal is to determine the best way to weight different features of houses to determine the price it was sold for."
   ]
  },
  {
   "cell_type": "markdown",
   "metadata": {
    "id": "tW1m54qm2O8J"
   },
   "source": [
    "The following cell is just for loading the data properly in the format you need. In this case, we load our data as a design matrix $X$ where\n",
    "$$\n",
    "X = \\begin{bmatrix} x_{11} & \\cdots & x_{1d} \\\\ \\vdots & \\ddots & \\vdots \\\\ x_{n1} & \\cdots & x_{nd} \\end{bmatrix}\n",
    "$$ where each row is an instance of the data. Meanwhile, the targets $y$ is loaded as a single column vector where the $i$-th entry corresponds to the target for the $i$-th row in $X$."
   ]
  },
  {
   "cell_type": "code",
   "execution_count": 30,
   "metadata": {
    "id": "XZwbIVgM2PT-"
   },
   "outputs": [],
   "source": [
    "def load_linear_regression_data():\n",
    "    test_inputs = np.genfromtxt('/data/housing_X_test.csv', delimiter=',')\n",
    "    test_targets = np.genfromtxt('/data/housing_y_test.csv', delimiter=',')\n",
    "    train_inputs = np.genfromtxt('/data/housing_X_train.csv', delimiter=',')\n",
    "    train_targets = np.genfromtxt('/data/housing_y_train.csv', delimiter=',')\n",
    "\n",
    "    return train_inputs.T, train_targets.reshape((train_targets.shape[0], 1)), test_inputs.T, test_targets.reshape((test_targets.shape[0], 1))\n",
    "\n",
    "X_tr, y_tr, X_te, y_te = load_linear_regression_data()"
   ]
  },
  {
   "cell_type": "markdown",
   "metadata": {
    "id": "IWxdsFMu1tAV"
   },
   "source": [
    "### **I)a) Helper functions for processing data**"
   ]
  },
  {
   "cell_type": "code",
   "execution_count": 31,
   "metadata": {
    "id": "OIONVEB33dSz",
    "tags": []
   },
   "outputs": [],
   "source": [
    "def create_inputs_with_bias(X: np.ndarray) -> np.ndarray:\n",
    "    \"\"\"\n",
    "    Args:\n",
    "        X (np.ndarray): Input\n",
    "\n",
    "    Returns:\n",
    "        X_new (np.ndarray): Input with biases appended\n",
    "    \"\"\"\n",
    "    n = np.shape(X)[0]\n",
    "    ones_column = np.ones((n, 1))\n",
    "    X_new = np.concatenate((X, ones_column), axis=1)\n",
    "    return X_new\n"
   ]
  },
  {
   "cell_type": "code",
   "execution_count": 32,
   "metadata": {
    "id": "4UvpE0IN4kl4",
    "tags": []
   },
   "outputs": [],
   "source": [
    "def rmse(y: np.ndarray, y_hat: np.ndarray) -> float:\n",
    "    \"\"\"\n",
    "    Args:\n",
    "        y (np.ndarray): True labels/values\n",
    "        y_hat (np.ndarray): Predicted labels/values\n",
    "\n",
    "    Returns:\n",
    "        float: Root Mean-Squared Error\n",
    "    \"\"\"\n",
    "    n = np.shape(y)[0]\n",
    "    return np.sqrt(1/n*((y - y_hat).T)@(y - y_hat))\n"
   ]
  },
  {
   "cell_type": "code",
   "execution_count": 33,
   "metadata": {
    "id": "QDJnXWDA55uI",
    "tags": []
   },
   "outputs": [],
   "source": [
    "def predict_linear_regression(inputs: np.ndarray, weights: np.ndarray) -> np.ndarray:\n",
    "    \"\"\"\n",
    "    Args:\n",
    "        X (np.ndarray): Input\n",
    "        weights (np.ndarray): Weight vector\n",
    "\n",
    "    Returns:\n",
    "        predicted_values: np.ndarray: Predictions\n",
    "    \"\"\"\n",
    "    return np.dot(inputs, weights)\n"
   ]
  },
  {
   "cell_type": "code",
   "execution_count": 34,
   "metadata": {
    "id": "8tW4RwAb65dM",
    "tags": []
   },
   "outputs": [],
   "source": [
    "def solve_linear_regression(X: np.ndarray, y: np.ndarray) -> np.ndarray:\n",
    "    \"\"\"\n",
    "    Args:\n",
    "        X (np.ndarray): Input\n",
    "        y (np.ndarray): Labels\n",
    "\n",
    "    Returns:\n",
    "        w_sol (np.ndarray): Analytical solution weight vector\n",
    "    \"\"\"\n",
    "    w_sol = np.linalg.pinv(X)@y\n",
    "    return w_sol"
   ]
  },
  {
   "cell_type": "code",
   "execution_count": 35,
   "metadata": {
    "id": "jii57VUw9zyo",
    "tags": []
   },
   "outputs": [],
   "source": [
    "def solve_ridge_regression(X: np.ndarray, y: np.ndarray, lambda_hyperparameter: float) -> np.ndarray:\n",
    "    \"\"\"\n",
    "    Args:\n",
    "        X (np.ndarray): Input\n",
    "        y (np.ndarray): Labels\n",
    "        lambda_hyperparameter (float): Regularization coefficient\n",
    "\n",
    "    Returns:\n",
    "        w_sol (np.ndarray): Analytical solution weight vector\n",
    "    \"\"\"\n",
    "    d = np.shape(X)[1]\n",
    "    w_sol = np.linalg.solve((X.T)@X + lambda_hyperparameter*np.eye(d), (X.T)@y)\n",
    "    return w_sol"
   ]
  },
  {
   "cell_type": "markdown",
   "metadata": {
    "id": "qusFUlRb7HgO"
   },
   "source": [
    "### **I)b) Cross-validation with linear regression**"
   ]
  },
  {
   "cell_type": "markdown",
   "metadata": {
    "id": "mzXfC2A_MxDd"
   },
   "source": [
    "Now that we have all of our main functions written out correctly, we would like to perform a hyperparameter search on ridge regression. In particular, we want to find the best regularization co-efficient $\\lambda$ based on the housing dataset we currently have. If you recall, ridge regression is a regularized version of linear regression where is loss is calculated as\n",
    "$$\n",
    "\\tilde{L}(X, y, w) = L(X, y, w) + \\lambda \\cdot \\|w\\|_2^2\n",
    "$$\n",
    "where $L$ is the loss for linear regression and $w$ is the current weight vector.\n",
    "\n",
    "Here, we'll perform a $k$-fold cross validation over the samples to estimate the best value of $\\lambda$ that enables best transfer from the training dataset to the testing dataset. For those who are still unfamiliar with $k$-fold CV, the idea is to duplicate the training dataset $k$ times, then for each duplicate split the dataset into a training and validation set. For each duplicate, or fold, the validation set should be different from all other folds."
   ]
  },
  {
   "cell_type": "markdown",
   "metadata": {
    "id": "uUrX4QDtPb6M"
   },
   "source": [
    "Since there are many ways to perform the splitting, we'll be doing it in a very simple manner. To avoid any random seeding issues, we'll be creating each fold's train/validation sets deterministically."
   ]
  },
  {
   "cell_type": "code",
   "execution_count": 37,
   "metadata": {
    "id": "VTLzWhQxHQte",
    "tags": []
   },
   "outputs": [],
   "source": [
    "def cross_validation_linear_regression(k_folds: int, hyperparameters: List[float],\n",
    "                                       X: np.ndarray, y: np.ndarray) -> Tuple[float, float, List[float]]:\n",
    "    \"\"\"\n",
    "    Args:\n",
    "        k_folds (int): Number of folds to use\n",
    "        hyperprameters (np.ndarray): Numpy array of floats containing the hyperparameter values to search\n",
    "        X (np.ndarray): Numpy array of shape [observations, features]\n",
    "        y (np.ndarray): Numpy array of shape [observations, 1]\n",
    "\n",
    "    Returns:\n",
    "        best_hyperparam: np.float value corresponding to the best hyperparameter value\n",
    "        best_root_mean_squared_error: np.float value corersponding to the best RMSE value\n",
    "        root_mean_squared_errors: np.ndarray of size len(hyperparameters) containing the corresponding RMSE for reach hyperparameter value\n",
    "    \"\"\"\n",
    "\n",
    "    best_hyperparam = 0.0\n",
    "    best_root_mean_squared_error = 0.0\n",
    "    root_mean_squared_errors = np.zeros(len(hyperparameters))\n",
    "\n",
    "    for i in range(k_folds):\n",
    "        # Split data into train and test\n",
    "        X_train = np.concatenate((X[:i*int(X.shape[0]/k_folds), :], X[(i+1)*int(X.shape[0]/k_folds):, :]), axis=0)\n",
    "        y_train = np.concatenate((y[:i*int(y.shape[0]/k_folds)], y[(i+1)*int(y.shape[0]/k_folds):]), axis=0)\n",
    "\n",
    "        X_valid = X[i*int(X.shape[0]/k_folds):(i+1)*int(X.shape[0]/k_folds), :]\n",
    "        y_valid = y[i*int(y.shape[0]/k_folds):(i+1)*int(y.shape[0]/k_folds)]\n",
    "\n",
    "        # Solve linear regression for each hyperparameter\n",
    "        for j in range(len(hyperparameters)):\n",
    "            w_sol = solve_ridge_regression(X_train, y_train, hyperparameters[j])\n",
    "            y_hat = predict_linear_regression(X_valid, w_sol)\n",
    "            root_mean_squared_errors[j] += rmse(y_valid, y_hat)/k_folds\n",
    "\n",
    "    # Store best results\n",
    "    best_root_mean_squared_error = np.min(root_mean_squared_errors)\n",
    "    best_hyperparam = hyperparameters[np.argmin(root_mean_squared_errors)] \n",
    "\n",
    "    return best_hyperparam, best_root_mean_squared_error, root_mean_squared_errors"
   ]
  },
  {
   "cell_type": "markdown",
   "metadata": {
    "id": "MjXEBEeSOW9H"
   },
   "source": [
    "### **I)c) Hyperparameter search**"
   ]
  },
  {
   "cell_type": "code",
   "execution_count": 39,
   "metadata": {
    "id": "ZZfvR05AH7WR",
    "tags": []
   },
   "outputs": [
    {
     "name": "stdout",
     "output_type": "stream",
     "text": [
      "Results for training set:\n",
      "best lambda: 0.7\n",
      "best cross validation root mean squared error: 3.456353263569991\n",
      "test root mean squared error: [3.57074823 3.49979317 3.47555585 3.46481248 3.45966016 3.45726822\n",
      " 3.45637858 3.45635326 3.45683944 3.45762997 3.45859809 3.45966391\n",
      " 3.46077616 3.46190158 3.46301857 3.4641132  3.46517674 3.46620391\n",
      " 3.46719183 3.46813924 3.46904601 3.46991273 3.47074051 3.47153079\n",
      " 3.47228518 3.47300542 3.4736933  3.47435061 3.4749791  3.4755805\n",
      " 3.47615647]\n",
      "\n",
      "Results for test set:\n",
      "best lambda: 0.1\n",
      "best cross validation root mean squared error: 5.480822455368664\n",
      "test root mean squared error: [5.79068372 5.48082246 5.61390744 5.73020342 5.81026994 5.86466278\n",
      " 5.90200431 5.92787842 5.94585568 5.95826928 5.96668561 5.97218366\n",
      " 5.97552388 5.97725291 5.97777049 5.97737318 5.97628382 5.97467157\n",
      " 5.97266607 5.97036738 5.96785324 5.96518432 5.96240818 5.95956217\n",
      " 5.9566757  5.95377188 5.9508689  5.94798101 5.9451193  5.94229238\n",
      " 5.93950683]\n"
     ]
    }
   ],
   "source": [
    "# lambda values to be evaluated by cross validation\n",
    "hyperparams = [0, 0.1, 0.2, 0.3, 0.4, 0.5, 0.6, 0.7, 0.8, 0.9, 1.0, 1.1, 1.2,\n",
    "               1.3, 1.4, 1.5, 1.6, 1.7, 1.8, 1.9, 2.0, 2.1, 2.2, 2.3, 2.4,\n",
    "               2.5, 2.6, 2.7, 2.8, 2.9, 3.0]\n",
    "k_folds = 10\n",
    "\n",
    "# Perform cross validation on training set\n",
    "best_lambda_tr, best_root_mean_squared_error_tr, root_mean_squared_errors_tr = cross_validation_linear_regression(k_folds, \n",
    "                                                                                                                  hyperparams, \n",
    "                                                                                                                  create_inputs_with_bias(X_tr),\n",
    "                                                                                                                  y_tr)\n",
    "\n",
    "print(\"Results for training set:\")\n",
    "print('best lambda: ' + str (best_lambda_tr))\n",
    "print('best cross validation root mean squared error: ' + str(best_root_mean_squared_error_tr))\n",
    "print('test root mean squared error: ' + str(root_mean_squared_errors_tr))\n",
    "\n",
    "\n",
    "# Perform cross validation on test set\n",
    "best_lambda_te, best_root_mean_squared_error_te, root_mean_squared_errors_te = cross_validation_linear_regression(k_folds, \n",
    "                                                                                                                  hyperparams, \n",
    "                                                                                                                  create_inputs_with_bias(X_te),\n",
    "                                                                                                                  y_te)\n",
    "\n",
    "print(\"\\nResults for test set:\")\n",
    "print('best lambda: ' + str (best_lambda_te))\n",
    "print('best cross validation root mean squared error: ' + str(best_root_mean_squared_error_te))\n",
    "print('test root mean squared error: ' + str(root_mean_squared_errors_te))\n"
   ]
  },
  {
   "cell_type": "markdown",
   "metadata": {
    "id": "sGmQMVnmZjKv"
   },
   "source": [
    "According to this k-fold cross validation, the best hyperparameter value is 0.7 for the training set and 0.1 for the test set.\n",
    "We can see that it performs less well on the test set as the test RMSEs are almost the double values of training RMSEs but still, the test RMSEs keep the same magnitude as training RMSEs."
   ]
  },
  {
   "cell_type": "markdown",
   "metadata": {
    "deletable": false,
    "editable": false,
    "id": "v7xAXnhPcnP6"
   },
   "source": [
    "### **I)d) Plots**"
   ]
  },
  {
   "cell_type": "code",
   "execution_count": 40,
   "metadata": {
    "id": "v5-MqGTjKwfA",
    "tags": []
   },
   "outputs": [
    {
     "data": {
      "image/png": "[encoded data removed]",
      "text/plain": [
       "<Figure size 432x288 with 1 Axes>"
      ]
     },
     "metadata": {
      "needs_background": "light"
     },
     "output_type": "display_data"
    },
    {
     "data": {
      "image/png": "[encoded data removed]",
      "text/plain": [
       "<Figure size 432x288 with 1 Axes>"
      ]
     },
     "metadata": {
      "needs_background": "light"
     },
     "output_type": "display_data"
    }
   ],
   "source": [
    "def plot_linear_regression_root_mean_squared_errors(root_mean_squared_errors, hyperparams):\n",
    "    plt.plot(hyperparams, root_mean_squared_errors)\n",
    "    plt.ylabel('mean squared error')\n",
    "    plt.xlabel('lambda')\n",
    "    plt.show()\n",
    "\n",
    "# plot results\n",
    "plot_linear_regression_root_mean_squared_errors(root_mean_squared_errors_tr, hyperparams)\n",
    "\n",
    "test_rmse = np.zeros(len(hyperparams))\n",
    "\n",
    "\"\"\"\n",
    "Write code to find the test RMSE for all hyperparameters using the train set to find w\n",
    "\"\"\"\n",
    "train_inputs = create_inputs_with_bias(X_tr)\n",
    "test_inputs = create_inputs_with_bias(X_te)\n",
    "\n",
    "for j in range(len(hyperparams)):\n",
    "    w_sol = solve_ridge_regression(train_inputs, y_tr, hyperparams[j])\n",
    "    y_hat = predict_linear_regression(test_inputs, w_sol)\n",
    "    test_rmse[j] += rmse(y_te, y_hat)\n",
    "\n",
    "plot_linear_regression_root_mean_squared_errors(test_rmse, hyperparams)"
   ]
  },
  {
   "cell_type": "markdown",
   "metadata": {
    "id": "bAuNR_71ZjKv"
   },
   "source": [
    "We can see that $\\lambda = 0.7$ obtained from cross-validation seems to be a good solution but regarding orders of magnitude it seems that larger values of $\\lambda$ are more interesting as they minimize the test RMSE and lead to a very little increase of validation RMSE. On the other hand, we can see that small values of $\\lambda$ make the test RMSE explode and validation RMSE increase too so they are not interesting here."
   ]
  },
  {
   "cell_type": "markdown",
   "metadata": {
    "deletable": false,
    "editable": false,
    "id": "K9IDJH7eQPLu"
   },
   "source": [
    "## **II) Gradient descent**"
   ]
  },
  {
   "cell_type": "markdown",
   "metadata": {
    "id": "INSBOBxAQWzm"
   },
   "source": [
    "We'll now use a synthetically generated dataset."
   ]
  },
  {
   "cell_type": "code",
   "execution_count": 41,
   "metadata": {
    "id": "uTOcQ3Q4ZjKv"
   },
   "outputs": [],
   "source": [
    "def load_gd_data(working_dir):\n",
    "    test_inputs = np.genfromtxt(working_dir + '/data/test_inputs.csv', delimiter=',')\n",
    "    test_targets = np.genfromtxt(working_dir + '/data/test_targets.csv', delimiter=',')\n",
    "    train_inputs = np.genfromtxt(working_dir + '/data/train_inputs.csv', delimiter=',')\n",
    "    train_targets = np.genfromtxt(working_dir + '/data/train_targets.csv', delimiter=',')\n",
    "\n",
    "    return train_inputs, train_targets.reshape((train_targets.shape[0], 1)), test_inputs, test_targets.reshape((test_targets.shape[0], 1))\n",
    "\n",
    "X_tr, y_tr, X_te, y_te = load_gd_data()"
   ]
  },
  {
   "cell_type": "markdown",
   "metadata": {
    "id": "2xOJC2aEQwVR"
   },
   "source": [
    "### **II)a) Linear regression using Gradient descent**\n",
    "\n",
    "Along with linear and ridge regression, we introduce LASSO regression, which is similar to ridge regression but instead of using a penalty term of $\\|w\\|_2^2$, we use a penalty of $\\|w\\|_1$. Since you might not be familiar with this notation, we denote the function $f(\\cdot) = \\| \\cdot \\|_1$ as the L1-norm function, where\n",
    "$$\n",
    "\\| w \\|_1 = |w_1| + |w_2| + \\dots + |w_d|\n",
    "$$\n",
    "\n",
    "Let's provide a function that computes the gradient for all three regression types."
   ]
  },
  {
   "cell_type": "code",
   "execution_count": 42,
   "metadata": {
    "id": "RgOxrP9aQ4Qu",
    "tags": []
   },
   "outputs": [],
   "source": [
    "def linear_regression_gradient(X: np.ndarray, y: np.ndarray, w: np.ndarray, **kwargs) -> np.ndarray:\n",
    "    \"\"\"Compute the gradient of w with respect to the loss\n",
    "\n",
    "    Args:\n",
    "        X (np.ndarray): Numpy array of shape [observations, features]\n",
    "        y (np.ndarray): Numpy array of shape [observations, 1]\n",
    "        w (np.ndarray): Numpy array of shape [features, 1], where the last value is w_0 and all other values represent w_1\n",
    "\n",
    "    Returns:\n",
    "        np.ndarray: Gradient of w with respect to the loss, as a numpy array of the same shape as w.\n",
    "    \"\"\"\n",
    "    y_hat = predict_linear_regression(X, w)\n",
    "    n = y.shape[0]\n",
    "    \n",
    "    return 1/n*(X.T)@(y_hat - y)\n"
   ]
  },
  {
   "cell_type": "code",
   "execution_count": 43,
   "metadata": {
    "id": "jiLGhi_aQeAO",
    "tags": []
   },
   "outputs": [],
   "source": [
    "def ridge_regression_gradient(X: np.ndarray, y: np.ndarray, w: np.ndarray, hyperparameter: float, **kwargs) -> np.ndarray:\n",
    "    \"\"\"Compute the gradient of w with respect to the loss\n",
    "\n",
    "    Args:\n",
    "        X (np.ndarray): Numpy array of shape [observations, features]\n",
    "        y (np.ndarray): Numpy array of shape [observations, 1]\n",
    "        w (np.ndarray): Numpy array of shape [features, 1], where the last value is w_0 and all other values represent w_1\n",
    "        hyperparameter (float): Lambda used in L2 regularizer\n",
    "\n",
    "    Returns:\n",
    "        np.ndarray: Gradient of w with respect to the loss, as a numpy array of the same shape as w.\n",
    "    \"\"\"\n",
    "    y_hat = predict_linear_regression(X, w)\n",
    "    n = y.shape[0]\n",
    "\n",
    "    return 1/n*(X.T)@(y_hat - y) + 2*hyperparameter*w\n",
    "    "
   ]
  },
  {
   "cell_type": "code",
   "execution_count": 44,
   "metadata": {
    "id": "TBV4LLV7OuAA",
    "tags": []
   },
   "outputs": [],
   "source": [
    "def lasso_regression_gradient(X: np.ndarray, y: np.ndarray, w: np.ndarray, hyperparameter: float, **kwargs) -> np.ndarray:\n",
    "    \"\"\"Compute the gradient of w with respect to the loss\n",
    "\n",
    "    Args:\n",
    "        X (np.ndarray): Numpy array of shape [observations, features]\n",
    "        y (np.ndarray): Numpy array of shape [observations, 1]\n",
    "        w (np.ndarray): Numpy array of shape [features, 1], where the last value is w_0 and all other values represent w_1\n",
    "        hyperparameter (float): Lambda used in L2 regularizer\n",
    "\n",
    "    Returns:\n",
    "        np.ndarray: Gradient of w with respect to the loss, as a numpy array of the same shape as w.\n",
    "    \"\"\"\n",
    "    y_hat = predict_linear_regression(X, w)\n",
    "    n = y.shape[0]\n",
    "    \n",
    "    return 1/n*(X.T)@(y_hat - y) + hyperparameter*np.sign(w)\n"
   ]
  },
  {
   "cell_type": "code",
   "execution_count": 46,
   "metadata": {
    "id": "9Vm5ancYRGyK",
    "tags": []
   },
   "outputs": [],
   "source": [
    "def regression_gradient_descent(X_train: np.ndarray, y_train: np.ndarray,\n",
    "                                X_test: np.ndarray, y_test: np.ndarray,\n",
    "                                w_0: np.ndarray, hyperparameter: float,\n",
    "                                learning_rate: float, num_epochs: int, reg_type: str = 'linear') -> Tuple[List[float], List[float], np.ndarray]:\n",
    "    \"\"\" Runs gradient descent to optimize the parameters w.\n",
    "\n",
    "    Args:\n",
    "        y_train (np.ndarray): Numpy array of shape [observations, 1]\n",
    "        X_train (np.ndarray): Numpy array of shape [observations, features]\n",
    "        X_test (np.ndarray): Numpy array of shape [observations, features]\n",
    "        y_test (np.ndarray): Numpy array of shape [observations, 1]\n",
    "        w_0 (np.ndarray): Numpy array of shape [features, 1]\n",
    "        hyperparameter (float): Lambda used in L2 regularizer\n",
    "        learning_rate (float): Value to multiply our gradient with before updating our parameters.\n",
    "        num_epochs (int): Number of gradient descent steps to perform.\n",
    "        type (str): The type of regression to use ['linear', 'ridge', 'lasso']\n",
    "\n",
    "    Returns:\n",
    "        train_loss (np.ndarray): The train RMSE loss without L2 regularizer, for each step.\n",
    "        test_loss (np.ndarray): The validation RMSE loss without L2 regularizer, for each step.\n",
    "        optimized_w (np.ndarray): The optimized w parameters.\n",
    "    \"\"\"\n",
    "\n",
    "    valid = {'linear', 'ridge', 'lasso'}\n",
    "    if reg_type not in valid:\n",
    "        raise ValueError(\"Invalid regression type\")\n",
    "\n",
    "    train_losses = np.zeros((num_epochs,), dtype=np.float32)\n",
    "    test_losses = np.zeros((num_epochs,), dtype=np.float32)\n",
    "    w_sol = np.copy(w_0)\n",
    "\n",
    "    for i in range(num_epochs):\n",
    "\n",
    "        # Choose of gradient according to the regression type\n",
    "        if reg_type == 'linear':\n",
    "            grad = linear_regression_gradient(X_train, y_train, w_sol)\n",
    "        elif reg_type == 'ridge':\n",
    "            grad = ridge_regression_gradient(X_train, y_train, w_sol, hyperparameter)\n",
    "        elif reg_type == 'lasso':\n",
    "            grad = lasso_regression_gradient(X_train, y_train, w_sol, hyperparameter)\n",
    "        else:\n",
    "            raise ValueError(\"Invalid regression type\")\n",
    "        \n",
    "        # Computation of the losses\n",
    "        train_losses[i] = rmse(y_train, predict_linear_regression(X_train, w_sol))\n",
    "        test_losses[i] = rmse(y_test, predict_linear_regression(X_test, w_sol))\n",
    "\n",
    "        # Update of the weights at the end\n",
    "        w_sol -= learning_rate*grad\n",
    "\n",
    "    return (train_losses, test_losses, w_sol)"
   ]
  },
  {
   "cell_type": "markdown",
   "metadata": {
    "id": "-W5fdgvpS9cl"
   },
   "source": [
    "### **II)b) Find the solution weights for each type of regression and Plots**"
   ]
  },
  {
   "cell_type": "code",
   "execution_count": 48,
   "metadata": {
    "id": "xDKouH97dauj",
    "tags": []
   },
   "outputs": [],
   "source": [
    "num_epochs = 250\n",
    "hyperparameter = 0.15\n",
    "learning_rate = 0.01\n",
    "\n",
    "# add bias at the end of each data point\n",
    "train_inputs = create_inputs_with_bias(X_tr)\n",
    "test_inputs = create_inputs_with_bias(X_te)\n",
    "\n",
    "w_0 = np.random.normal(size=(train_inputs.shape[1], 1))\n",
    "\n",
    "\"\"\"\n",
    "Write code here to find the solution for each method.\n",
    "\"\"\"\n",
    "\n",
    "train_losses, test_losses, _ = regression_gradient_descent(train_inputs, y_tr, \n",
    "                                                           test_inputs, y_te, \n",
    "                                                           w_0, hyperparameter, learning_rate, num_epochs, 'linear')\n",
    "\n",
    "train_losses_ridge, test_losses_ridge, _ = regression_gradient_descent(train_inputs, y_tr, \n",
    "                                                                       test_inputs, y_te, \n",
    "                                                                       w_0, hyperparameter, learning_rate, num_epochs, 'ridge')\n",
    "\n",
    "train_losses_lasso, test_losses_lasso, _ = regression_gradient_descent(train_inputs, y_tr, \n",
    "                                                                       test_inputs, y_te, \n",
    "                                                                       w_0, hyperparameter, learning_rate, num_epochs, 'lasso')"
   ]
  },
  {
   "cell_type": "code",
   "execution_count": 49,
   "metadata": {
    "id": "jspz783KZjKx",
    "tags": []
   },
   "outputs": [
    {
     "data": {
      "image/png": "[encoded data removed]",
      "text/plain": [
       "<Figure size 432x288 with 1 Axes>"
      ]
     },
     "metadata": {
      "needs_background": "light"
     },
     "output_type": "display_data"
    }
   ],
   "source": [
    "plt.plot(train_losses, label='Linear Regression')\n",
    "plt.plot(train_losses_ridge, label='Ridge Regression')\n",
    "plt.plot(train_losses_lasso, label='Lasso Regression')\n",
    "plt.ylabel('mean squared error')\n",
    "plt.xlabel('Epoch')\n",
    "plt.title('Training Losses per Epoch')\n",
    "plt.legend(loc = 'upper right')\n",
    "plt.show()"
   ]
  },
  {
   "cell_type": "code",
   "execution_count": 50,
   "metadata": {
    "id": "VMBEYW45ZjKx",
    "tags": []
   },
   "outputs": [
    {
     "data": {
      "image/png": "[encoded data removed]",
      "text/plain": [
       "<Figure size 432x288 with 1 Axes>"
      ]
     },
     "metadata": {
      "needs_background": "light"
     },
     "output_type": "display_data"
    }
   ],
   "source": [
    "plt.plot(test_losses, label='Linear Regression')\n",
    "plt.plot(test_losses_ridge, label='Ridge Regression')\n",
    "plt.plot(test_losses_lasso, label='Lasso Regression')\n",
    "plt.ylabel('mean squared error')\n",
    "plt.xlabel('Epoch')\n",
    "plt.title('Test Losses per Epoch')\n",
    "plt.legend(loc = 'upper right')\n",
    "plt.show()"
   ]
  },
  {
   "cell_type": "markdown",
   "metadata": {
    "deletable": false,
    "editable": false,
    "id": "6h8E4CcTSLiE"
   },
   "source": [
    "### **II)c) Regularization with hyperparameter equal to 1**"
   ]
  },
  {
   "cell_type": "code",
   "execution_count": 51,
   "metadata": {
    "id": "wb6lyWf2eorr"
   },
   "outputs": [],
   "source": [
    "def load_comp_data():\n",
    "    test_inputs = np.genfromtxt('/data/X_test_C.csv', delimiter=',')\n",
    "    test_targets = np.genfromtxt('/data/Y_test_C.csv', delimiter=',')\n",
    "    train_inputs = np.genfromtxt('/data/X_train_C.csv', delimiter=',')\n",
    "    train_targets = np.genfromtxt('/data/Y_train_C.csv', delimiter=',')\n",
    "\n",
    "    return train_inputs, train_targets.reshape((train_targets.shape[0], 1)), test_inputs, test_targets.reshape((test_targets.shape[0], 1))\n",
    "\n",
    "X_train, y_train, X_test, y_test = load_comp_data()"
   ]
  },
  {
   "cell_type": "code",
   "execution_count": 52,
   "metadata": {
    "id": "CVgik-Z3SrkS",
    "tags": []
   },
   "outputs": [
    {
     "data": {
      "image/png": "[encoded data removed]",
      "text/plain": [
       "<Figure size 720x576 with 1 Axes>"
      ]
     },
     "metadata": {
      "needs_background": "light"
     },
     "output_type": "display_data"
    },
    {
     "data": {
      "image/png": "[encoded data removed]",
      "text/plain": [
       "<Figure size 720x576 with 1 Axes>"
      ]
     },
     "metadata": {
      "needs_background": "light"
     },
     "output_type": "display_data"
    }
   ],
   "source": [
    "train_inputs = create_inputs_with_bias(X_train)\n",
    "test_inputs = create_inputs_with_bias(X_test)\n",
    "\n",
    "np.random.seed(8245)\n",
    "w_0 = np.random.normal(size=(train_inputs.shape[1], 1))\n",
    "\n",
    "hyperparameter = 1\n",
    "\n",
    "_, _, w_sol_ridge = regression_gradient_descent(train_inputs, y_train, test_inputs, y_test, w_0, hyperparameter, learning_rate, num_epochs, 'ridge')\n",
    "\n",
    "_, _, w_sol_lasso = regression_gradient_descent(train_inputs, y_train, test_inputs, y_test, w_0, hyperparameter, learning_rate, num_epochs, 'lasso')\n",
    "\n",
    "data = [w_sol_ridge.flatten(), w_sol_lasso.flatten()]\n",
    "labels = ['ridge10', 'lasso10']\n",
    "plt.figure(figsize = (10, 8))\n",
    "plt.hist(data, label=labels)\n",
    "\n",
    "plt.grid(axis='y', alpha=0.75)\n",
    "plt.legend(loc = 'upper left')\n",
    "plt.title('Histogram of Model Parameter Values')\n",
    "plt.ylabel('Occurrences')\n",
    "plt.xlabel('Parameter Value')\n",
    "plt.show()\n",
    "\n",
    "data = [w_sol_ridge.flatten(), w_sol_lasso.flatten()]\n",
    "labels = ['ridge10', 'lasso10']\n",
    "\n",
    "bins = np.linspace(-1, 1, 20)\n",
    "plt.figure(figsize = (10, 8))\n",
    "plt.hist(data, bins = bins, label=labels)\n",
    "\n",
    "plt.grid(axis='y', alpha=0.75)\n",
    "plt.legend(loc = 'upper left')\n",
    "plt.title('Histogram of Model Parameter Values')\n",
    "plt.ylabel('Occurrences')\n",
    "plt.xlabel('Parameter Value')\n",
    "plt.show()"
   ]
  },
  {
   "cell_type": "markdown",
   "metadata": {
    "id": "lzuS6lKNZjKy"
   },
   "source": [
    "For Lasso regression, I notice that almost all the weights have as value 0 or a value close to 0 whereas for Ridge regression the weights are also close to 0 but more equally distributed as we can see in the second graph between $[-1, 1]$ they are all under 10 occurences while Lasso has the weight 0 with more than 40 occurences and the rest under 10.\n",
    "\n",
    "As the regularization term is 1 it may be at the cause of this phenomenon. Indeed, with Lasso 1 as regularization is more likely to push some features weights to 0, excluding them from the model while with Ridge the weights are reduced more smoothly close to 0."
   ]
  },
  {
   "cell_type": "markdown",
   "metadata": {
    "deletable": false,
    "editable": false,
    "id": "ktSFcX7CWy_i"
   },
   "source": [
    "### **II)d) Mathematical explanation of the previous results**"
   ]
  },
  {
   "cell_type": "markdown",
   "metadata": {
    "id": "U26rzcb1ZjKy"
   },
   "source": [
    "If we use the following notations :\n",
    "$$X = \\begin{pmatrix} x_1 \\\\ \\vdots \\\\  x_n \\end{pmatrix}$$\n",
    "\n",
    "$$Y = \\begin{pmatrix} y_1 \\\\ \\vdots \\\\  y_n \\end{pmatrix}$$\n",
    "\n",
    "$$\\omega = \\begin{pmatrix} \\omega _1 \\\\ \\vdots \\\\  \\omega _n \\end{pmatrix}$$\n",
    "\n",
    "According to the definitions of Lasso and Ridge losses :\n",
    "$$L_{Lasso}(\\omega)= \\sum\\limits_{i=1}^n (x_i\\omega - y_i)^2 + \\lambda\\times\\lVert\\omega\\rVert _1$$\n",
    "$$L_{Ridge}(\\omega)= \\sum\\limits_{i=1}^n (x_i\\omega - y_i)^2 + \\lambda\\times\\lVert\\omega\\rVert _2^2$$\n",
    "\n",
    "Here, we took $\\lambda = 1$ so we have :\n",
    "$$L_{Lasso}(\\omega)= \\sum\\limits_{i=1}^n (x_i\\omega - y_i)^2 + \\lVert\\omega\\rVert _1$$\n",
    "$$L_{Ridge}(\\omega)= \\sum\\limits_{i=1}^n (x_i\\omega - y_i)^2 + \\lVert\\omega\\rVert _2^2$$\n",
    "\n",
    "However, $x \\mapsto \\lVert x \\rVert _2^2$ is differentiable in 0 while $x \\mapsto \\lVert x \\rVert _1 = \\sum\\limits_{i=1}^n \\lvert x_i \\rvert$ is not differentiable in 0 because $x \\mapsto \\lvert x \\rvert$ is not differentiable in 0.\n",
    "\n",
    "Hence, Lasso encourages sparsity among the weights while Ridgle only encourages to a decrease of the weights values."
   ]
  },
  {
   "cell_type": "markdown",
   "metadata": {
    "deletable": false,
    "editable": false,
    "id": "BO8tehZrZjKy"
   },
   "source": [
    "<!-- END QUESTION -->\n",
    "\n"
   ]
  }
 ],
 "metadata": {
  "colab": {
   "provenance": [],
   "toc_visible": true
  },
  "kernelspec": {
   "display_name": "Python 3 (ipykernel)",
   "language": "python",
   "name": "python3"
  },
  "language_info": {
   "codemirror_mode": {
    "name": "ipython",
    "version": 3
   },
   "file_extension": ".py",
   "mimetype": "text/x-python",
   "name": "python",
   "nbconvert_exporter": "python",
   "pygments_lexer": "ipython3",
   "version": "3.10.12"
  }
 },
 "nbformat": 4,
 "nbformat_minor": 1
}
